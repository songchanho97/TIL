{
 "cells": [
  {
   "cell_type": "code",
   "execution_count": 2,
   "id": "11c0f96c-eb34-45f0-9375-d629edaa5b96",
   "metadata": {},
   "outputs": [],
   "source": [
    "import pandas as pd"
   ]
  },
  {
   "cell_type": "markdown",
   "id": "8a8b4380-3d7a-4634-b2f1-c5927e7991f0",
   "metadata": {},
   "source": [
    "테스트용 DataFrame 생성"
   ]
  },
  {
   "cell_type": "code",
   "execution_count": 5,
   "id": "b46bba00-1ed1-45d8-9558-60c80e7f2009",
   "metadata": {},
   "outputs": [
    {
     "data": {
      "text/html": [
       "<div>\n",
       "<style scoped>\n",
       "    .dataframe tbody tr th:only-of-type {\n",
       "        vertical-align: middle;\n",
       "    }\n",
       "\n",
       "    .dataframe tbody tr th {\n",
       "        vertical-align: top;\n",
       "    }\n",
       "\n",
       "    .dataframe thead th {\n",
       "        text-align: right;\n",
       "    }\n",
       "</style>\n",
       "<table border=\"1\" class=\"dataframe\">\n",
       "  <thead>\n",
       "    <tr style=\"text-align: right;\">\n",
       "      <th></th>\n",
       "      <th>customer_name</th>\n",
       "      <th>cust_country</th>\n",
       "      <th>gender</th>\n",
       "      <th>grade</th>\n",
       "      <th>age</th>\n",
       "    </tr>\n",
       "  </thead>\n",
       "  <tbody>\n",
       "    <tr>\n",
       "      <th>0</th>\n",
       "      <td>Alice</td>\n",
       "      <td>US</td>\n",
       "      <td>F</td>\n",
       "      <td>3</td>\n",
       "      <td>25</td>\n",
       "    </tr>\n",
       "    <tr>\n",
       "      <th>1</th>\n",
       "      <td>Tom</td>\n",
       "      <td>GB</td>\n",
       "      <td>M</td>\n",
       "      <td>1</td>\n",
       "      <td>34</td>\n",
       "    </tr>\n",
       "    <tr>\n",
       "      <th>2</th>\n",
       "      <td>James</td>\n",
       "      <td>US</td>\n",
       "      <td>M</td>\n",
       "      <td>2</td>\n",
       "      <td>26</td>\n",
       "    </tr>\n",
       "    <tr>\n",
       "      <th>3</th>\n",
       "      <td>Yerin</td>\n",
       "      <td>KOR</td>\n",
       "      <td>F</td>\n",
       "      <td>5</td>\n",
       "      <td>33</td>\n",
       "    </tr>\n",
       "    <tr>\n",
       "      <th>4</th>\n",
       "      <td>Min</td>\n",
       "      <td>KOR</td>\n",
       "      <td>M</td>\n",
       "      <td>4</td>\n",
       "      <td>67</td>\n",
       "    </tr>\n",
       "    <tr>\n",
       "      <th>5</th>\n",
       "      <td>Katherine</td>\n",
       "      <td>GB</td>\n",
       "      <td>F</td>\n",
       "      <td>3</td>\n",
       "      <td>29</td>\n",
       "    </tr>\n",
       "    <tr>\n",
       "      <th>6</th>\n",
       "      <td>John</td>\n",
       "      <td>US</td>\n",
       "      <td>M</td>\n",
       "      <td>5</td>\n",
       "      <td>54</td>\n",
       "    </tr>\n",
       "    <tr>\n",
       "      <th>7</th>\n",
       "      <td>Park</td>\n",
       "      <td>KOR</td>\n",
       "      <td>M</td>\n",
       "      <td>7</td>\n",
       "      <td>21</td>\n",
       "    </tr>\n",
       "    <tr>\n",
       "      <th>8</th>\n",
       "      <td>Maria</td>\n",
       "      <td>US</td>\n",
       "      <td>F</td>\n",
       "      <td>2</td>\n",
       "      <td>77</td>\n",
       "    </tr>\n",
       "    <tr>\n",
       "      <th>9</th>\n",
       "      <td>Derik</td>\n",
       "      <td>GB</td>\n",
       "      <td>M</td>\n",
       "      <td>4</td>\n",
       "      <td>29</td>\n",
       "    </tr>\n",
       "    <tr>\n",
       "      <th>10</th>\n",
       "      <td>Jin</td>\n",
       "      <td>KOR</td>\n",
       "      <td>F</td>\n",
       "      <td>5</td>\n",
       "      <td>16</td>\n",
       "    </tr>\n",
       "  </tbody>\n",
       "</table>\n",
       "</div>"
      ],
      "text/plain": [
       "   customer_name cust_country gender  grade  age\n",
       "0          Alice           US      F      3   25\n",
       "1            Tom           GB      M      1   34\n",
       "2          James           US      M      2   26\n",
       "3          Yerin          KOR      F      5   33\n",
       "4            Min          KOR      M      4   67\n",
       "5      Katherine           GB      F      3   29\n",
       "6           John           US      M      5   54\n",
       "7           Park          KOR      M      7   21\n",
       "8          Maria           US      F      2   77\n",
       "9          Derik           GB      M      4   29\n",
       "10           Jin          KOR      F      5   16"
      ]
     },
     "execution_count": 5,
     "metadata": {},
     "output_type": "execute_result"
    }
   ],
   "source": [
    "cust_dict = {\n",
    "    'customer_name':['Alice', 'Tom', 'James', 'Yerin', 'Min', 'Katherine', 'John', 'Park', 'Maria', 'Derik', 'Jin'],\n",
    "    'cust_country':['US', 'GB', 'US', 'KOR', 'KOR', 'GB', 'US', 'KOR', 'US', 'GB', 'KOR'],\n",
    "    'gender':['F', 'M', 'M', 'F', 'M', 'F', 'M', 'M', 'F', 'M', 'F'],\n",
    "    'grade':[3, 1, 2, 5, 4, 3, 5, 7, 2, 4, 5],\n",
    "    'age':[25, 34, 26, 33, 67, 29, 54, 21, 77, 29, 16]\n",
    "}\n",
    "customer = pd.DataFrame(cust_dict)\n",
    "\n",
    "customer.head(11)"
   ]
  },
  {
   "cell_type": "markdown",
   "id": "a0db137d-8e7f-4150-8346-869751ace558",
   "metadata": {},
   "source": [
    "## Pandas Groupby"
   ]
  },
  {
   "cell_type": "markdown",
   "id": "c92b4a4a-5d23-48c8-9b3e-dca0d2eaf981",
   "metadata": {},
   "source": [
    "groupby key 컬럼으로 DataFrameGroupby 생성"
   ]
  },
  {
   "cell_type": "code",
   "execution_count": 15,
   "id": "62522a36-e219-4feb-a0f9-9ba2717e0b78",
   "metadata": {},
   "outputs": [
    {
     "data": {
      "text/plain": [
       "<pandas.core.groupby.generic.DataFrameGroupBy object at 0x000001FD0B4B6D50>"
      ]
     },
     "execution_count": 15,
     "metadata": {},
     "output_type": "execute_result"
    }
   ],
   "source": [
    "cust_group = customer.groupby('cust_country')\n",
    "cust_group"
   ]
  },
  {
   "cell_type": "markdown",
   "id": "70394ef9-1e42-4643-896c-f911e5c03346",
   "metadata": {},
   "source": [
    "cust_group은 groupby를 손쉽게 진행할 수 있는 하나의 object 객체이다. 해당 객체를 통해 다양한 agg 계산을 진행해볼 수 있다. "
   ]
  },
  {
   "cell_type": "code",
   "execution_count": 18,
   "id": "3b7ecd47-0fbf-45c2-93b6-b18b89d32779",
   "metadata": {},
   "outputs": [
    {
     "data": {
      "text/html": [
       "<div>\n",
       "<style scoped>\n",
       "    .dataframe tbody tr th:only-of-type {\n",
       "        vertical-align: middle;\n",
       "    }\n",
       "\n",
       "    .dataframe tbody tr th {\n",
       "        vertical-align: top;\n",
       "    }\n",
       "\n",
       "    .dataframe thead th {\n",
       "        text-align: right;\n",
       "    }\n",
       "</style>\n",
       "<table border=\"1\" class=\"dataframe\">\n",
       "  <thead>\n",
       "    <tr style=\"text-align: right;\">\n",
       "      <th></th>\n",
       "      <th>customer_name</th>\n",
       "      <th>cust_country</th>\n",
       "      <th>gender</th>\n",
       "      <th>grade</th>\n",
       "      <th>age</th>\n",
       "    </tr>\n",
       "  </thead>\n",
       "  <tbody>\n",
       "    <tr>\n",
       "      <th>0</th>\n",
       "      <td>Alice</td>\n",
       "      <td>US</td>\n",
       "      <td>F</td>\n",
       "      <td>3</td>\n",
       "      <td>25</td>\n",
       "    </tr>\n",
       "    <tr>\n",
       "      <th>1</th>\n",
       "      <td>Tom</td>\n",
       "      <td>GB</td>\n",
       "      <td>M</td>\n",
       "      <td>1</td>\n",
       "      <td>34</td>\n",
       "    </tr>\n",
       "    <tr>\n",
       "      <th>2</th>\n",
       "      <td>James</td>\n",
       "      <td>US</td>\n",
       "      <td>M</td>\n",
       "      <td>2</td>\n",
       "      <td>26</td>\n",
       "    </tr>\n",
       "    <tr>\n",
       "      <th>3</th>\n",
       "      <td>Yerin</td>\n",
       "      <td>KOR</td>\n",
       "      <td>F</td>\n",
       "      <td>5</td>\n",
       "      <td>33</td>\n",
       "    </tr>\n",
       "    <tr>\n",
       "      <th>4</th>\n",
       "      <td>Min</td>\n",
       "      <td>KOR</td>\n",
       "      <td>M</td>\n",
       "      <td>4</td>\n",
       "      <td>67</td>\n",
       "    </tr>\n",
       "    <tr>\n",
       "      <th>5</th>\n",
       "      <td>Katherine</td>\n",
       "      <td>GB</td>\n",
       "      <td>F</td>\n",
       "      <td>3</td>\n",
       "      <td>29</td>\n",
       "    </tr>\n",
       "    <tr>\n",
       "      <th>6</th>\n",
       "      <td>John</td>\n",
       "      <td>US</td>\n",
       "      <td>M</td>\n",
       "      <td>5</td>\n",
       "      <td>54</td>\n",
       "    </tr>\n",
       "    <tr>\n",
       "      <th>7</th>\n",
       "      <td>Park</td>\n",
       "      <td>KOR</td>\n",
       "      <td>M</td>\n",
       "      <td>7</td>\n",
       "      <td>21</td>\n",
       "    </tr>\n",
       "    <tr>\n",
       "      <th>8</th>\n",
       "      <td>Maria</td>\n",
       "      <td>US</td>\n",
       "      <td>F</td>\n",
       "      <td>2</td>\n",
       "      <td>77</td>\n",
       "    </tr>\n",
       "    <tr>\n",
       "      <th>9</th>\n",
       "      <td>Derik</td>\n",
       "      <td>GB</td>\n",
       "      <td>M</td>\n",
       "      <td>4</td>\n",
       "      <td>29</td>\n",
       "    </tr>\n",
       "    <tr>\n",
       "      <th>10</th>\n",
       "      <td>Jin</td>\n",
       "      <td>KOR</td>\n",
       "      <td>F</td>\n",
       "      <td>5</td>\n",
       "      <td>16</td>\n",
       "    </tr>\n",
       "  </tbody>\n",
       "</table>\n",
       "</div>"
      ],
      "text/plain": [
       "   customer_name cust_country gender  grade  age\n",
       "0          Alice           US      F      3   25\n",
       "1            Tom           GB      M      1   34\n",
       "2          James           US      M      2   26\n",
       "3          Yerin          KOR      F      5   33\n",
       "4            Min          KOR      M      4   67\n",
       "5      Katherine           GB      F      3   29\n",
       "6           John           US      M      5   54\n",
       "7           Park          KOR      M      7   21\n",
       "8          Maria           US      F      2   77\n",
       "9          Derik           GB      M      4   29\n",
       "10           Jin          KOR      F      5   16"
      ]
     },
     "execution_count": 18,
     "metadata": {},
     "output_type": "execute_result"
    }
   ],
   "source": [
    "cust_group.head()"
   ]
  },
  {
   "cell_type": "markdown",
   "id": "1bfc679c-b785-4b0f-b631-9656b9590d98",
   "metadata": {},
   "source": [
    "cust_group을 출력하게 되면, 기존 DataFrame과 크게 차이가 없어 보인다. 하지만 새로운 DataFrame을 생성하고 groupby를 진행하게 되면 그 차이를 확인해볼 수 있다."
   ]
  },
  {
   "cell_type": "markdown",
   "id": "45aea2c7-3bb0-4914-a8cc-316e07b4aa0c",
   "metadata": {},
   "source": [
    "개별 aggregation 컬럼 및 aggregation 연산별로 API 호출"
   ]
  },
  {
   "cell_type": "code",
   "execution_count": 24,
   "id": "a9354593-bf29-4190-8e74-46cc17b77e05",
   "metadata": {},
   "outputs": [
    {
     "data": {
      "text/html": [
       "<div>\n",
       "<style scoped>\n",
       "    .dataframe tbody tr th:only-of-type {\n",
       "        vertical-align: middle;\n",
       "    }\n",
       "\n",
       "    .dataframe tbody tr th {\n",
       "        vertical-align: top;\n",
       "    }\n",
       "\n",
       "    .dataframe thead th {\n",
       "        text-align: right;\n",
       "    }\n",
       "</style>\n",
       "<table border=\"1\" class=\"dataframe\">\n",
       "  <thead>\n",
       "    <tr style=\"text-align: right;\">\n",
       "      <th></th>\n",
       "    </tr>\n",
       "  </thead>\n",
       "  <tbody>\n",
       "  </tbody>\n",
       "</table>\n",
       "</div>"
      ],
      "text/plain": [
       "Empty DataFrame\n",
       "Columns: []\n",
       "Index: []"
      ]
     },
     "execution_count": 24,
     "metadata": {},
     "output_type": "execute_result"
    }
   ],
   "source": [
    "cust_agg = pd.DataFrame()\n",
    "cust_agg"
   ]
  },
  {
   "cell_type": "code",
   "execution_count": 32,
   "id": "5d050bb8-eb44-4a3f-bf71-86fc725c7a7a",
   "metadata": {},
   "outputs": [
    {
     "data": {
      "text/html": [
       "<div>\n",
       "<style scoped>\n",
       "    .dataframe tbody tr th:only-of-type {\n",
       "        vertical-align: middle;\n",
       "    }\n",
       "\n",
       "    .dataframe tbody tr th {\n",
       "        vertical-align: top;\n",
       "    }\n",
       "\n",
       "    .dataframe thead th {\n",
       "        text-align: right;\n",
       "    }\n",
       "</style>\n",
       "<table border=\"1\" class=\"dataframe\">\n",
       "  <thead>\n",
       "    <tr style=\"text-align: right;\">\n",
       "      <th></th>\n",
       "      <th>sum_grade</th>\n",
       "      <th>max_grade</th>\n",
       "    </tr>\n",
       "    <tr>\n",
       "      <th>cust_country</th>\n",
       "      <th></th>\n",
       "      <th></th>\n",
       "    </tr>\n",
       "  </thead>\n",
       "  <tbody>\n",
       "    <tr>\n",
       "      <th>GB</th>\n",
       "      <td>8</td>\n",
       "      <td>4</td>\n",
       "    </tr>\n",
       "    <tr>\n",
       "      <th>KOR</th>\n",
       "      <td>21</td>\n",
       "      <td>7</td>\n",
       "    </tr>\n",
       "    <tr>\n",
       "      <th>US</th>\n",
       "      <td>12</td>\n",
       "      <td>5</td>\n",
       "    </tr>\n",
       "  </tbody>\n",
       "</table>\n",
       "</div>"
      ],
      "text/plain": [
       "              sum_grade  max_grade\n",
       "cust_country                      \n",
       "GB                    8          4\n",
       "KOR                  21          7\n",
       "US                   12          5"
      ]
     },
     "execution_count": 32,
     "metadata": {},
     "output_type": "execute_result"
    }
   ],
   "source": [
    "cust_agg['sum_grade'] = cust_group['grade'].sum()\n",
    "cust_agg['max_grade'] = cust_group['grade'].max()\n",
    "cust_agg.head()"
   ]
  },
  {
   "cell_type": "markdown",
   "id": "12f653bf-c947-40d9-9b54-894cf6016a0b",
   "metadata": {},
   "source": [
    "cust_agg라는 빈 DataFrame을 생성한 후에, cust_group에서 groupby를 진행한 값을 컬럼별로 추가해주는 과정이다."
   ]
  },
  {
   "cell_type": "code",
   "execution_count": 37,
   "id": "324083fc-e869-402e-afff-08f368d8884d",
   "metadata": {},
   "outputs": [
    {
     "data": {
      "text/html": [
       "<div>\n",
       "<style scoped>\n",
       "    .dataframe tbody tr th:only-of-type {\n",
       "        vertical-align: middle;\n",
       "    }\n",
       "\n",
       "    .dataframe tbody tr th {\n",
       "        vertical-align: top;\n",
       "    }\n",
       "\n",
       "    .dataframe thead th {\n",
       "        text-align: right;\n",
       "    }\n",
       "</style>\n",
       "<table border=\"1\" class=\"dataframe\">\n",
       "  <thead>\n",
       "    <tr style=\"text-align: right;\">\n",
       "      <th></th>\n",
       "      <th>sum_grade</th>\n",
       "      <th>max_grade</th>\n",
       "      <th>avg_age</th>\n",
       "      <th>max_age</th>\n",
       "    </tr>\n",
       "    <tr>\n",
       "      <th>cust_country</th>\n",
       "      <th></th>\n",
       "      <th></th>\n",
       "      <th></th>\n",
       "      <th></th>\n",
       "    </tr>\n",
       "  </thead>\n",
       "  <tbody>\n",
       "    <tr>\n",
       "      <th>GB</th>\n",
       "      <td>8</td>\n",
       "      <td>4</td>\n",
       "      <td>30.666667</td>\n",
       "      <td>34</td>\n",
       "    </tr>\n",
       "    <tr>\n",
       "      <th>KOR</th>\n",
       "      <td>21</td>\n",
       "      <td>7</td>\n",
       "      <td>34.250000</td>\n",
       "      <td>67</td>\n",
       "    </tr>\n",
       "    <tr>\n",
       "      <th>US</th>\n",
       "      <td>12</td>\n",
       "      <td>5</td>\n",
       "      <td>45.500000</td>\n",
       "      <td>77</td>\n",
       "    </tr>\n",
       "  </tbody>\n",
       "</table>\n",
       "</div>"
      ],
      "text/plain": [
       "              sum_grade  max_grade    avg_age  max_age\n",
       "cust_country                                          \n",
       "GB                    8          4  30.666667       34\n",
       "KOR                  21          7  34.250000       67\n",
       "US                   12          5  45.500000       77"
      ]
     },
     "execution_count": 37,
     "metadata": {},
     "output_type": "execute_result"
    }
   ],
   "source": [
    "cust_agg['avg_age'] = cust_group['age'].mean()\n",
    "cust_agg['max_age'] = cust_group['age'].max()\n",
    "cust_agg.head()"
   ]
  },
  {
   "cell_type": "markdown",
   "id": "336e7abf-a2fc-40e6-af91-63a9f19dc4e9",
   "metadata": {},
   "source": [
    "위 이미지에서 주의할 점은 'cust_country' 즉, group by에서의 키 컬럼은 컬럼이 아닌 인덱스로 설정되어 있다.   \n",
    "reset_index() 메서드를 통해 인덱스를 컬럼으로 변환한다. "
   ]
  },
  {
   "cell_type": "code",
   "execution_count": 40,
   "id": "2c4fa254-d796-44b4-95a8-eb7323980c63",
   "metadata": {},
   "outputs": [
    {
     "data": {
      "text/html": [
       "<div>\n",
       "<style scoped>\n",
       "    .dataframe tbody tr th:only-of-type {\n",
       "        vertical-align: middle;\n",
       "    }\n",
       "\n",
       "    .dataframe tbody tr th {\n",
       "        vertical-align: top;\n",
       "    }\n",
       "\n",
       "    .dataframe thead th {\n",
       "        text-align: right;\n",
       "    }\n",
       "</style>\n",
       "<table border=\"1\" class=\"dataframe\">\n",
       "  <thead>\n",
       "    <tr style=\"text-align: right;\">\n",
       "      <th></th>\n",
       "      <th>cust_country</th>\n",
       "      <th>sum_grade</th>\n",
       "      <th>max_grade</th>\n",
       "      <th>avg_age</th>\n",
       "      <th>max_age</th>\n",
       "    </tr>\n",
       "  </thead>\n",
       "  <tbody>\n",
       "    <tr>\n",
       "      <th>0</th>\n",
       "      <td>GB</td>\n",
       "      <td>8</td>\n",
       "      <td>4</td>\n",
       "      <td>30.666667</td>\n",
       "      <td>34</td>\n",
       "    </tr>\n",
       "    <tr>\n",
       "      <th>1</th>\n",
       "      <td>KOR</td>\n",
       "      <td>21</td>\n",
       "      <td>7</td>\n",
       "      <td>34.250000</td>\n",
       "      <td>67</td>\n",
       "    </tr>\n",
       "    <tr>\n",
       "      <th>2</th>\n",
       "      <td>US</td>\n",
       "      <td>12</td>\n",
       "      <td>5</td>\n",
       "      <td>45.500000</td>\n",
       "      <td>77</td>\n",
       "    </tr>\n",
       "  </tbody>\n",
       "</table>\n",
       "</div>"
      ],
      "text/plain": [
       "  cust_country  sum_grade  max_grade    avg_age  max_age\n",
       "0           GB          8          4  30.666667       34\n",
       "1          KOR         21          7  34.250000       67\n",
       "2           US         12          5  45.500000       77"
      ]
     },
     "execution_count": 40,
     "metadata": {},
     "output_type": "execute_result"
    }
   ],
   "source": [
    "cust_agg = cust_agg.reset_index()\n",
    "cust_agg.head()"
   ]
  },
  {
   "cell_type": "markdown",
   "id": "f7878f97-666f-4a51-abd2-e9ff88454f41",
   "metadata": {},
   "source": [
    "agg() 함수의 인자로 리스트를 입력하는 경우에도각 컬럼별로 aggregation API가 적용된다."
   ]
  },
  {
   "cell_type": "code",
   "execution_count": 42,
   "id": "1f4f5107-ee35-48f7-97cc-f4d70a2e1372",
   "metadata": {},
   "outputs": [
    {
     "name": "stdout",
     "output_type": "stream",
     "text": [
      "              sum  max\n",
      "cust_country          \n",
      "GB              8    4\n",
      "KOR            21    7\n",
      "US             12    5\n",
      "                   mean  max\n",
      "cust_country                \n",
      "GB            30.666667   34\n",
      "KOR           34.250000   67\n",
      "US            45.500000   77\n"
     ]
    }
   ],
   "source": [
    "cust_agg1 = cust_group['grade'].agg(['sum', 'max'])\n",
    "cust_agg2 = cust_group['age'].agg(['mean', 'max'])\n",
    "print(cust_agg1.head())\n",
    "print(cust_agg2.head())"
   ]
  },
  {
   "cell_type": "code",
   "execution_count": 45,
   "id": "586ccc92-f85a-404e-8b06-dc2f042d0d28",
   "metadata": {},
   "outputs": [
    {
     "data": {
      "text/html": [
       "<div>\n",
       "<style scoped>\n",
       "    .dataframe tbody tr th:only-of-type {\n",
       "        vertical-align: middle;\n",
       "    }\n",
       "\n",
       "    .dataframe tbody tr th {\n",
       "        vertical-align: top;\n",
       "    }\n",
       "\n",
       "    .dataframe thead th {\n",
       "        text-align: right;\n",
       "    }\n",
       "</style>\n",
       "<table border=\"1\" class=\"dataframe\">\n",
       "  <thead>\n",
       "    <tr style=\"text-align: right;\">\n",
       "      <th></th>\n",
       "      <th>sum</th>\n",
       "      <th>max_x</th>\n",
       "      <th>mean</th>\n",
       "      <th>max_y</th>\n",
       "    </tr>\n",
       "    <tr>\n",
       "      <th>cust_country</th>\n",
       "      <th></th>\n",
       "      <th></th>\n",
       "      <th></th>\n",
       "      <th></th>\n",
       "    </tr>\n",
       "  </thead>\n",
       "  <tbody>\n",
       "    <tr>\n",
       "      <th>GB</th>\n",
       "      <td>8</td>\n",
       "      <td>4</td>\n",
       "      <td>30.666667</td>\n",
       "      <td>34</td>\n",
       "    </tr>\n",
       "    <tr>\n",
       "      <th>KOR</th>\n",
       "      <td>21</td>\n",
       "      <td>7</td>\n",
       "      <td>34.250000</td>\n",
       "      <td>67</td>\n",
       "    </tr>\n",
       "    <tr>\n",
       "      <th>US</th>\n",
       "      <td>12</td>\n",
       "      <td>5</td>\n",
       "      <td>45.500000</td>\n",
       "      <td>77</td>\n",
       "    </tr>\n",
       "  </tbody>\n",
       "</table>\n",
       "</div>"
      ],
      "text/plain": [
       "              sum  max_x       mean  max_y\n",
       "cust_country                              \n",
       "GB              8      4  30.666667     34\n",
       "KOR            21      7  34.250000     67\n",
       "US             12      5  45.500000     77"
      ]
     },
     "execution_count": 45,
     "metadata": {},
     "output_type": "execute_result"
    }
   ],
   "source": [
    "cust_agg = cust_agg1.merge(cust_agg2, on='cust_country', how='left')\n",
    "cust_agg.head()"
   ]
  },
  {
   "cell_type": "markdown",
   "id": "3142282d-53d6-4842-81a4-2f9bda585310",
   "metadata": {},
   "source": [
    "동일한 이름의 컬럼이 존재할 경우, max_x 또는 max_y 와 같이 컬럼이 구별되어 나오기는 하나, 각 컬럼이 의미하는 데이터를 확인하기 어렵다.  \n",
    "aggreagation API를 적용할 때에 각 컬럼에 이름을 부여할 수 있다. "
   ]
  },
  {
   "cell_type": "code",
   "execution_count": 50,
   "id": "5c9f3ea0-aac3-40be-bfae-f59a7fccafe8",
   "metadata": {},
   "outputs": [
    {
     "data": {
      "text/html": [
       "<div>\n",
       "<style scoped>\n",
       "    .dataframe tbody tr th:only-of-type {\n",
       "        vertical-align: middle;\n",
       "    }\n",
       "\n",
       "    .dataframe tbody tr th {\n",
       "        vertical-align: top;\n",
       "    }\n",
       "\n",
       "    .dataframe thead th {\n",
       "        text-align: right;\n",
       "    }\n",
       "</style>\n",
       "<table border=\"1\" class=\"dataframe\">\n",
       "  <thead>\n",
       "    <tr style=\"text-align: right;\">\n",
       "      <th></th>\n",
       "      <th>sum_grade</th>\n",
       "      <th>max_grade</th>\n",
       "      <th>avg_age</th>\n",
       "      <th>max_age</th>\n",
       "    </tr>\n",
       "    <tr>\n",
       "      <th>cust_country</th>\n",
       "      <th></th>\n",
       "      <th></th>\n",
       "      <th></th>\n",
       "      <th></th>\n",
       "    </tr>\n",
       "  </thead>\n",
       "  <tbody>\n",
       "    <tr>\n",
       "      <th>GB</th>\n",
       "      <td>8</td>\n",
       "      <td>4</td>\n",
       "      <td>30.666667</td>\n",
       "      <td>34</td>\n",
       "    </tr>\n",
       "    <tr>\n",
       "      <th>KOR</th>\n",
       "      <td>21</td>\n",
       "      <td>7</td>\n",
       "      <td>34.250000</td>\n",
       "      <td>67</td>\n",
       "    </tr>\n",
       "    <tr>\n",
       "      <th>US</th>\n",
       "      <td>12</td>\n",
       "      <td>5</td>\n",
       "      <td>45.500000</td>\n",
       "      <td>77</td>\n",
       "    </tr>\n",
       "  </tbody>\n",
       "</table>\n",
       "</div>"
      ],
      "text/plain": [
       "              sum_grade  max_grade    avg_age  max_age\n",
       "cust_country                                          \n",
       "GB                    8          4  30.666667       34\n",
       "KOR                  21          7  34.250000       67\n",
       "US                   12          5  45.500000       77"
      ]
     },
     "execution_count": 50,
     "metadata": {},
     "output_type": "execute_result"
    }
   ],
   "source": [
    "cust_agg = pd.DataFrame()\n",
    "cust_agg[['sum_grade', 'max_grade']] = cust_group['grade'].agg(['sum','max'])\n",
    "cust_agg[['avg_age', 'max_age']] = cust_group['age'].agg(['mean','max'])\n",
    "cust_agg.head()"
   ]
  },
  {
   "cell_type": "markdown",
   "id": "23d477ec-9629-48d2-b720-e4bc6b0034e0",
   "metadata": {},
   "source": [
    "agg()에 인자로 Aggregation 컬럼값과 Aggregation 함수를 리스트를 입력한 dictionary값을 입력하여 사용할 수 있다"
   ]
  },
  {
   "cell_type": "code",
   "execution_count": 53,
   "id": "3d071fa5-c4b7-430e-9b75-2c40e03798bb",
   "metadata": {},
   "outputs": [
    {
     "data": {
      "text/html": [
       "<div>\n",
       "<style scoped>\n",
       "    .dataframe tbody tr th:only-of-type {\n",
       "        vertical-align: middle;\n",
       "    }\n",
       "\n",
       "    .dataframe tbody tr th {\n",
       "        vertical-align: top;\n",
       "    }\n",
       "\n",
       "    .dataframe thead tr th {\n",
       "        text-align: left;\n",
       "    }\n",
       "\n",
       "    .dataframe thead tr:last-of-type th {\n",
       "        text-align: right;\n",
       "    }\n",
       "</style>\n",
       "<table border=\"1\" class=\"dataframe\">\n",
       "  <thead>\n",
       "    <tr>\n",
       "      <th></th>\n",
       "      <th colspan=\"4\" halign=\"left\">grade</th>\n",
       "      <th colspan=\"4\" halign=\"left\">age</th>\n",
       "    </tr>\n",
       "    <tr>\n",
       "      <th></th>\n",
       "      <th>sum</th>\n",
       "      <th>max</th>\n",
       "      <th>min</th>\n",
       "      <th>count</th>\n",
       "      <th>mean</th>\n",
       "      <th>max</th>\n",
       "      <th>min</th>\n",
       "      <th>count</th>\n",
       "    </tr>\n",
       "    <tr>\n",
       "      <th>cust_country</th>\n",
       "      <th></th>\n",
       "      <th></th>\n",
       "      <th></th>\n",
       "      <th></th>\n",
       "      <th></th>\n",
       "      <th></th>\n",
       "      <th></th>\n",
       "      <th></th>\n",
       "    </tr>\n",
       "  </thead>\n",
       "  <tbody>\n",
       "    <tr>\n",
       "      <th>GB</th>\n",
       "      <td>8</td>\n",
       "      <td>4</td>\n",
       "      <td>1</td>\n",
       "      <td>3</td>\n",
       "      <td>30.666667</td>\n",
       "      <td>34</td>\n",
       "      <td>29</td>\n",
       "      <td>3</td>\n",
       "    </tr>\n",
       "    <tr>\n",
       "      <th>KOR</th>\n",
       "      <td>21</td>\n",
       "      <td>7</td>\n",
       "      <td>4</td>\n",
       "      <td>4</td>\n",
       "      <td>34.250000</td>\n",
       "      <td>67</td>\n",
       "      <td>16</td>\n",
       "      <td>4</td>\n",
       "    </tr>\n",
       "    <tr>\n",
       "      <th>US</th>\n",
       "      <td>12</td>\n",
       "      <td>5</td>\n",
       "      <td>2</td>\n",
       "      <td>4</td>\n",
       "      <td>45.500000</td>\n",
       "      <td>77</td>\n",
       "      <td>25</td>\n",
       "      <td>4</td>\n",
       "    </tr>\n",
       "  </tbody>\n",
       "</table>\n",
       "</div>"
      ],
      "text/plain": [
       "             grade                      age              \n",
       "               sum max min count       mean max min count\n",
       "cust_country                                             \n",
       "GB               8   4   1     3  30.666667  34  29     3\n",
       "KOR             21   7   4     4  34.250000  67  16     4\n",
       "US              12   5   2     4  45.500000  77  25     4"
      ]
     },
     "execution_count": 53,
     "metadata": {},
     "output_type": "execute_result"
    }
   ],
   "source": [
    "agg_dict={\n",
    "    'grade':['sum', 'max', 'min','count'],\n",
    "    'age':['mean','max','min','count']\n",
    "}\n",
    "\n",
    "cust_agg = cust_group.agg(agg_dict)\n",
    "cust_agg.head()"
   ]
  },
  {
   "cell_type": "markdown",
   "id": "975cb4e6-d011-456d-b211-ab702788df94",
   "metadata": {},
   "source": [
    "위와 같이 dictionary값을 Aggregatrion 함수 리스트에 전달할 경우, 멀티컬럼(multi-column)을 생성하게 된다."
   ]
  },
  {
   "cell_type": "code",
   "execution_count": 58,
   "id": "7aee6cd2-d908-4a4f-a019-0fa1036d2717",
   "metadata": {},
   "outputs": [
    {
     "name": "stdout",
     "output_type": "stream",
     "text": [
      "MultiIndex([('grade',   'sum'),\n",
      "            ('grade',   'max'),\n",
      "            ('grade',   'min'),\n",
      "            ('grade', 'count'),\n",
      "            (  'age',  'mean'),\n",
      "            (  'age',   'max'),\n",
      "            (  'age',   'min'),\n",
      "            (  'age', 'count')],\n",
      "           )\n"
     ]
    }
   ],
   "source": [
    "print(cust_agg.columns)"
   ]
  },
  {
   "cell_type": "code",
   "execution_count": 60,
   "id": "f3668f87-fc13-4b13-adc1-9a41dd18bbe1",
   "metadata": {},
   "outputs": [
    {
     "data": {
      "text/plain": [
       "['grade-sum',\n",
       " 'grade-max',\n",
       " 'grade-min',\n",
       " 'grade-count',\n",
       " 'age-mean',\n",
       " 'age-max',\n",
       " 'age-min',\n",
       " 'age-count']"
      ]
     },
     "execution_count": 60,
     "metadata": {},
     "output_type": "execute_result"
    }
   ],
   "source": [
    "[('-').join(column) for column in cust_agg.columns]"
   ]
  },
  {
   "cell_type": "markdown",
   "id": "ba20d4ec-9793-4ada-b5e5-70cdc729b12e",
   "metadata": {},
   "source": [
    "join 메"
   ]
  }
 ],
 "metadata": {
  "kernelspec": {
   "display_name": "Python 3 (ipykernel)",
   "language": "python",
   "name": "python3"
  },
  "language_info": {
   "codemirror_mode": {
    "name": "ipython",
    "version": 3
   },
   "file_extension": ".py",
   "mimetype": "text/x-python",
   "name": "python",
   "nbconvert_exporter": "python",
   "pygments_lexer": "ipython3",
   "version": "3.12.7"
  }
 },
 "nbformat": 4,
 "nbformat_minor": 5
}
